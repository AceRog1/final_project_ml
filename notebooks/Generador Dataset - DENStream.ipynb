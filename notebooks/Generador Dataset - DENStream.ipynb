{
 "cells": [
  {
   "cell_type": "markdown",
   "metadata": {
    "cell_id": "33cddc3c12dc4827ba4fc5ff3baaf845",
    "deepnote_cell_type": "text-cell-h1",
    "formattedRanges": []
   },
   "source": [
    "# Generacion del Dataset para DENStream"
   ]
  },
  {
   "cell_type": "markdown",
   "metadata": {
    "cell_id": "03d5f65a0473420c885e758c26281085",
    "deepnote_cell_type": "text-cell-p",
    "formattedRanges": []
   },
   "source": [
    "A partir del dataset con las features, generaremos un dataset especifico para hacer clustering"
   ]
  },
  {
   "cell_type": "code",
   "execution_count": 1,
   "metadata": {
    "cell_id": "2b5a3cf490e54f37aae1e7d886964cfc",
    "deepnote_cell_type": "code",
    "execution_context_id": "7d0b0781-e639-41a3-8ee6-9cb9657a33e9",
    "execution_millis": 1681,
    "execution_start": 1750633483655,
    "source_hash": "7f260d72"
   },
   "outputs": [],
   "source": [
    "import pandas as pd\n",
    "import numpy as np\n",
    "from pyproj import Proj, transform\n",
    "from sklearn.preprocessing import StandardScaler\n",
    "import joblib\n",
    "import geopandas as gpd\n",
    "from pathlib import Path"
   ]
  },
  {
   "cell_type": "code",
   "execution_count": 2,
   "metadata": {
    "cell_id": "5dc6f82aed6043c8828fd2477a58911e",
    "deepnote_cell_type": "code",
    "execution_context_id": "7d0b0781-e639-41a3-8ee6-9cb9657a33e9",
    "execution_millis": 203,
    "execution_start": 1750633485395,
    "source_hash": "679092a7"
   },
   "outputs": [
    {
     "data": {
      "application/vnd.deepnote.dataframe.v3+json": {
       "column_count": 20,
       "columns": [
        {
         "dtype": "object",
         "name": "icao24",
         "stats": {
          "categories": [
           {
            "count": 119,
            "name": "e0814b"
           },
           {
            "count": 107,
            "name": "e4a012"
           },
           {
            "count": 15396,
            "name": "512 others"
           }
          ],
          "histogram": null,
          "max": null,
          "min": null,
          "nan_count": 0,
          "unique_count": 514
         }
        },
        {
         "dtype": "object",
         "name": "callsign",
         "stats": {
          "categories": [
           {
            "count": 314,
            "name": "unidentified"
           },
           {
            "count": 118,
            "name": "JES3815"
           },
           {
            "count": 15190,
            "name": "572 others"
           }
          ],
          "histogram": null,
          "max": null,
          "min": null,
          "nan_count": 0,
          "unique_count": 574
         }
        },
        {
         "dtype": "object",
         "name": "origin_country",
         "stats": {
          "categories": [
           {
            "count": 7966,
            "name": "Brazil"
           },
           {
            "count": 2229,
            "name": "Chile"
           },
           {
            "count": 5427,
            "name": "27 others"
           }
          ],
          "histogram": null,
          "max": null,
          "min": null,
          "nan_count": 0,
          "unique_count": 29
         }
        },
        {
         "dtype": "int64",
         "name": "time_position",
         "stats": {
          "categories": null,
          "histogram": [
           {
            "bin_end": 1750549267.1,
            "bin_start": 1750547951,
            "count": 1469
           },
           {
            "bin_end": 1750550583.2,
            "bin_start": 1750549267.1,
            "count": 2051
           },
           {
            "bin_end": 1750551899.3,
            "bin_start": 1750550583.2,
            "count": 1866
           },
           {
            "bin_end": 1750553215.4,
            "bin_start": 1750551899.3,
            "count": 1667
           },
           {
            "bin_end": 1750554531.5,
            "bin_start": 1750553215.4,
            "count": 1335
           },
           {
            "bin_end": 1750555847.6,
            "bin_start": 1750554531.5,
            "count": 1207
           },
           {
            "bin_end": 1750557163.7,
            "bin_start": 1750555847.6,
            "count": 1465
           },
           {
            "bin_end": 1750558479.8,
            "bin_start": 1750557163.7,
            "count": 1501
           },
           {
            "bin_end": 1750559795.9,
            "bin_start": 1750558479.8,
            "count": 1525
           },
           {
            "bin_end": 1750561112,
            "bin_start": 1750559795.9,
            "count": 1536
           }
          ],
          "max": "1750561112",
          "min": "1750547951",
          "nan_count": 0,
          "unique_count": 3603
         }
        },
        {
         "dtype": "int64",
         "name": "last_contact",
         "stats": {
          "categories": null,
          "histogram": [
           {
            "bin_end": 1750549297.7,
            "bin_start": 1750547985,
            "count": 1470
           },
           {
            "bin_end": 1750550610.4,
            "bin_start": 1750549297.7,
            "count": 2048
           },
           {
            "bin_end": 1750551923.1,
            "bin_start": 1750550610.4,
            "count": 1885
           },
           {
            "bin_end": 1750553235.8,
            "bin_start": 1750551923.1,
            "count": 1649
           },
           {
            "bin_end": 1750554548.5,
            "bin_start": 1750553235.8,
            "count": 1336
           },
           {
            "bin_end": 1750555861.2,
            "bin_start": 1750554548.5,
            "count": 1258
           },
           {
            "bin_end": 1750557173.9,
            "bin_start": 1750555861.2,
            "count": 1415
           },
           {
            "bin_end": 1750558486.6,
            "bin_start": 1750557173.9,
            "count": 1499
           },
           {
            "bin_end": 1750559799.3,
            "bin_start": 1750558486.6,
            "count": 1525
           },
           {
            "bin_end": 1750561112,
            "bin_start": 1750559799.3,
            "count": 1537
           }
          ],
          "max": "1750561112",
          "min": "1750547985",
          "nan_count": 0,
          "unique_count": 3116
         }
        },
        {
         "dtype": "float64",
         "name": "longitude",
         "stats": {
          "categories": null,
          "histogram": [
           {
            "bin_end": -84.38852,
            "bin_start": -89.9866,
            "count": 587
           },
           {
            "bin_end": -78.79043999999999,
            "bin_start": -84.38852,
            "count": 264
           },
           {
            "bin_end": -73.19236,
            "bin_start": -78.79043999999999,
            "count": 1446
           },
           {
            "bin_end": -67.59428,
            "bin_start": -73.19236,
            "count": 320
           },
           {
            "bin_end": -61.9962,
            "bin_start": -67.59428,
            "count": 275
           },
           {
            "bin_end": -56.39812,
            "bin_start": -61.9962,
            "count": 3038
           },
           {
            "bin_end": -50.800039999999996,
            "bin_start": -56.39812,
            "count": 474
           },
           {
            "bin_end": -45.20196,
            "bin_start": -50.800039999999996,
            "count": 6285
           },
           {
            "bin_end": -39.603880000000004,
            "bin_start": -45.20196,
            "count": 1901
           },
           {
            "bin_end": -34.0058,
            "bin_start": -39.603880000000004,
            "count": 1032
           }
          ],
          "max": "-34.0058",
          "min": "-89.9866",
          "nan_count": 0,
          "unique_count": 14671
         }
        },
        {
         "dtype": "float64",
         "name": "latitude"
        },
        {
         "dtype": "float64",
         "name": "baro_altitude"
        },
        {
         "dtype": "bool",
         "name": "on_ground"
        },
        {
         "dtype": "float64",
         "name": "velocity"
        },
        {
         "dtype": "float64",
         "name": "heading"
        },
        {
         "dtype": "object",
         "name": "timestamp"
        },
        {
         "dtype": "int64",
         "name": "año"
        },
        {
         "dtype": "int64",
         "name": "mes"
        },
        {
         "dtype": "int64",
         "name": "dia"
        },
        {
         "dtype": "int64",
         "name": "hora"
        },
        {
         "dtype": "int64",
         "name": "minuto"
        },
        {
         "dtype": "int64",
         "name": "lat_bin"
        },
        {
         "dtype": "int64",
         "name": "lon_bin"
        },
        {
         "dtype": "object",
         "name": "zone_id"
        },
        {
         "dtype": "int64",
         "name": "_deepnote_index_column"
        }
       ],
       "preview_row_count": 15622,
       "row_count": 15622,
       "rows": [
        {
         "_deepnote_index_column": 0,
         "año": 2025,
         "baro_altitude": 10934.7,
         "callsign": "LPE2368",
         "dia": 21,
         "heading": 329.2,
         "hora": 23,
         "icao24": "e8021b",
         "last_contact": 1750548596,
         "lat_bin": 0,
         "latitude": -32.8455,
         "lon_bin": 1,
         "longitude": -59.7568,
         "mes": 6,
         "minuto": 30,
         "on_ground": "False",
         "origin_country": "Chile",
         "time_position": 1750548596,
         "timestamp": "2025-06-21 23:30:00+00:00",
         "velocity": 221.01,
         "zone_id": "0_1"
        },
        {
         "_deepnote_index_column": 1,
         "año": 2025,
         "baro_altitude": 10652.76,
         "callsign": "LAN772",
         "dia": 21,
         "heading": 65.04,
         "hora": 23,
         "icao24": "e80204",
         "last_contact": 1750548577,
         "lat_bin": 0,
         "latitude": -25.7672,
         "lon_bin": 1,
         "longitude": -48.4337,
         "mes": 6,
         "minuto": 30,
         "on_ground": "False",
         "origin_country": "Chile",
         "time_position": 1750548577,
         "timestamp": "2025-06-21 23:30:00+00:00",
         "velocity": 287.7,
         "zone_id": "0_1"
        },
        {
         "_deepnote_index_column": 2,
         "año": 2025,
         "baro_altitude": 12192,
         "callsign": "ARG1255",
         "dia": 21,
         "heading": 226.8,
         "hora": 23,
         "icao24": "e0b244",
         "last_contact": 1750548596,
         "lat_bin": 0,
         "latitude": -29.248,
         "lon_bin": 1,
         "longitude": -51.8828,
         "mes": 6,
         "minuto": 30,
         "on_ground": "False",
         "origin_country": "Argentina",
         "time_position": 1750548596,
         "timestamp": "2025-06-21 23:30:00+00:00",
         "velocity": 208.18,
         "zone_id": "0_1"
        },
        {
         "_deepnote_index_column": 3,
         "año": 2025,
         "baro_altitude": 335.28,
         "callsign": "ARG1843",
         "dia": 21,
         "heading": 303.69,
         "hora": 23,
         "icao24": "e07583",
         "last_contact": 1750548596,
         "lat_bin": 0,
         "latitude": -34.5908,
         "lon_bin": 1,
         "longitude": -58.359,
         "mes": 6,
         "minuto": 30,
         "on_ground": "False",
         "origin_country": "Argentina",
         "time_position": 1750548595,
         "timestamp": "2025-06-21 23:30:00+00:00",
         "velocity": 61.21,
         "zone_id": "0_1"
        },
        {
         "_deepnote_index_column": 4,
         "año": 2025,
         "baro_altitude": 11277.6,
         "callsign": "GLO7705",
         "dia": 21,
         "heading": 47.85,
         "hora": 23,
         "icao24": "e49eef",
         "last_contact": 1750548596,
         "lat_bin": 0,
         "latitude": -28.2255,
         "lon_bin": 1,
         "longitude": -48.9696,
         "mes": 6,
         "minuto": 30,
         "on_ground": "False",
         "origin_country": "Brazil",
         "time_position": 1750548595,
         "timestamp": "2025-06-21 23:30:00+00:00",
         "velocity": 262.97,
         "zone_id": "0_1"
        },
        {
         "_deepnote_index_column": 5,
         "año": 2025,
         "baro_altitude": 11513.82,
         "callsign": "FBZ5903",
         "dia": 21,
         "heading": 228.13,
         "hora": 23,
         "icao24": "e0b284",
         "last_contact": 1750548596,
         "lat_bin": 0,
         "latitude": -29.7337,
         "lon_bin": 1,
         "longitude": -50.83,
         "mes": 6,
         "minuto": 30,
         "on_ground": "False",
         "origin_country": "Argentina",
         "time_position": 1750548596,
         "timestamp": "2025-06-21 23:30:00+00:00",
         "velocity": 206.56,
         "zone_id": "0_1"
        },
        {
         "_deepnote_index_column": 6,
         "año": 2025,
         "baro_altitude": 1790.7,
         "callsign": "TAM3411",
         "dia": 21,
         "heading": 191.57,
         "hora": 23,
         "icao24": "e48c4d",
         "last_contact": 1750548596,
         "lat_bin": 0,
         "latitude": -23.4185,
         "lon_bin": 1,
         "longitude": -46.6944,
         "mes": 6,
         "minuto": 30,
         "on_ground": "False",
         "origin_country": "Brazil",
         "time_position": 1750548596,
         "timestamp": "2025-06-21 23:30:00+00:00",
         "velocity": 110.27,
         "zone_id": "0_1"
        },
        {
         "_deepnote_index_column": 7,
         "año": 2025,
         "baro_altitude": 5996.94,
         "callsign": "GLO7691",
         "dia": 21,
         "heading": 53.92,
         "hora": 23,
         "icao24": "e48c05",
         "last_contact": 1750548596,
         "lat_bin": 0,
         "latitude": -34.4372,
         "lon_bin": 1,
         "longitude": -57.6403,
         "mes": 6,
         "minuto": 30,
         "on_ground": "False",
         "origin_country": "Brazil",
         "time_position": 1750548596,
         "timestamp": "2025-06-21 23:30:00+00:00",
         "velocity": 215.78,
         "zone_id": "0_1"
        },
        {
         "_deepnote_index_column": 8,
         "año": 2025,
         "baro_altitude": 10668,
         "callsign": "FBZ5104",
         "dia": 21,
         "heading": 12.85,
         "hora": 23,
         "icao24": "e0b0c5",
         "last_contact": 1750548557,
         "lat_bin": 0,
         "latitude": -31.7444,
         "lon_bin": 1,
         "longitude": -58.0669,
         "mes": 6,
         "minuto": 30,
         "on_ground": "False",
         "origin_country": "Argentina",
         "time_position": 1750548556,
         "timestamp": "2025-06-21 23:30:00+00:00",
         "velocity": 247.47,
         "zone_id": "0_1"
        },
        {
         "_deepnote_index_column": 9,
         "año": 2025,
         "baro_altitude": 11582.4,
         "callsign": "AZU4150",
         "dia": 21,
         "heading": 213.48,
         "hora": 23,
         "icao24": "e49f5b",
         "last_contact": 1750548597,
         "lat_bin": 0,
         "latitude": -27.7315,
         "lon_bin": 1,
         "longitude": -49.6383,
         "mes": 6,
         "minuto": 30,
         "on_ground": "False",
         "origin_country": "Brazil",
         "time_position": 1750548595,
         "timestamp": "2025-06-21 23:30:00+00:00",
         "velocity": 196.76,
         "zone_id": "0_1"
        }
       ],
       "type": "dataframe"
      },
      "text/html": [
       "<div>\n",
       "<style scoped>\n",
       "    .dataframe tbody tr th:only-of-type {\n",
       "        vertical-align: middle;\n",
       "    }\n",
       "\n",
       "    .dataframe tbody tr th {\n",
       "        vertical-align: top;\n",
       "    }\n",
       "\n",
       "    .dataframe thead th {\n",
       "        text-align: right;\n",
       "    }\n",
       "</style>\n",
       "<table border=\"1\" class=\"dataframe\">\n",
       "  <thead>\n",
       "    <tr style=\"text-align: right;\">\n",
       "      <th></th>\n",
       "      <th>icao24</th>\n",
       "      <th>callsign</th>\n",
       "      <th>origin_country</th>\n",
       "      <th>time_position</th>\n",
       "      <th>last_contact</th>\n",
       "      <th>longitude</th>\n",
       "      <th>latitude</th>\n",
       "      <th>baro_altitude</th>\n",
       "      <th>on_ground</th>\n",
       "      <th>velocity</th>\n",
       "      <th>heading</th>\n",
       "      <th>timestamp</th>\n",
       "      <th>año</th>\n",
       "      <th>mes</th>\n",
       "      <th>dia</th>\n",
       "      <th>hora</th>\n",
       "      <th>minuto</th>\n",
       "      <th>lat_bin</th>\n",
       "      <th>lon_bin</th>\n",
       "      <th>zone_id</th>\n",
       "    </tr>\n",
       "  </thead>\n",
       "  <tbody>\n",
       "    <tr>\n",
       "      <th>0</th>\n",
       "      <td>e8021b</td>\n",
       "      <td>LPE2368</td>\n",
       "      <td>Chile</td>\n",
       "      <td>1750548596</td>\n",
       "      <td>1750548596</td>\n",
       "      <td>-59.7568</td>\n",
       "      <td>-32.8455</td>\n",
       "      <td>10934.70</td>\n",
       "      <td>False</td>\n",
       "      <td>221.01</td>\n",
       "      <td>329.20</td>\n",
       "      <td>2025-06-21 23:30:00+00:00</td>\n",
       "      <td>2025</td>\n",
       "      <td>6</td>\n",
       "      <td>21</td>\n",
       "      <td>23</td>\n",
       "      <td>30</td>\n",
       "      <td>0</td>\n",
       "      <td>1</td>\n",
       "      <td>0_1</td>\n",
       "    </tr>\n",
       "    <tr>\n",
       "      <th>1</th>\n",
       "      <td>e80204</td>\n",
       "      <td>LAN772</td>\n",
       "      <td>Chile</td>\n",
       "      <td>1750548577</td>\n",
       "      <td>1750548577</td>\n",
       "      <td>-48.4337</td>\n",
       "      <td>-25.7672</td>\n",
       "      <td>10652.76</td>\n",
       "      <td>False</td>\n",
       "      <td>287.70</td>\n",
       "      <td>65.04</td>\n",
       "      <td>2025-06-21 23:30:00+00:00</td>\n",
       "      <td>2025</td>\n",
       "      <td>6</td>\n",
       "      <td>21</td>\n",
       "      <td>23</td>\n",
       "      <td>30</td>\n",
       "      <td>0</td>\n",
       "      <td>1</td>\n",
       "      <td>0_1</td>\n",
       "    </tr>\n",
       "    <tr>\n",
       "      <th>2</th>\n",
       "      <td>e0b244</td>\n",
       "      <td>ARG1255</td>\n",
       "      <td>Argentina</td>\n",
       "      <td>1750548596</td>\n",
       "      <td>1750548596</td>\n",
       "      <td>-51.8828</td>\n",
       "      <td>-29.2480</td>\n",
       "      <td>12192.00</td>\n",
       "      <td>False</td>\n",
       "      <td>208.18</td>\n",
       "      <td>226.80</td>\n",
       "      <td>2025-06-21 23:30:00+00:00</td>\n",
       "      <td>2025</td>\n",
       "      <td>6</td>\n",
       "      <td>21</td>\n",
       "      <td>23</td>\n",
       "      <td>30</td>\n",
       "      <td>0</td>\n",
       "      <td>1</td>\n",
       "      <td>0_1</td>\n",
       "    </tr>\n",
       "    <tr>\n",
       "      <th>3</th>\n",
       "      <td>e07583</td>\n",
       "      <td>ARG1843</td>\n",
       "      <td>Argentina</td>\n",
       "      <td>1750548595</td>\n",
       "      <td>1750548596</td>\n",
       "      <td>-58.3590</td>\n",
       "      <td>-34.5908</td>\n",
       "      <td>335.28</td>\n",
       "      <td>False</td>\n",
       "      <td>61.21</td>\n",
       "      <td>303.69</td>\n",
       "      <td>2025-06-21 23:30:00+00:00</td>\n",
       "      <td>2025</td>\n",
       "      <td>6</td>\n",
       "      <td>21</td>\n",
       "      <td>23</td>\n",
       "      <td>30</td>\n",
       "      <td>0</td>\n",
       "      <td>1</td>\n",
       "      <td>0_1</td>\n",
       "    </tr>\n",
       "    <tr>\n",
       "      <th>4</th>\n",
       "      <td>e49eef</td>\n",
       "      <td>GLO7705</td>\n",
       "      <td>Brazil</td>\n",
       "      <td>1750548595</td>\n",
       "      <td>1750548596</td>\n",
       "      <td>-48.9696</td>\n",
       "      <td>-28.2255</td>\n",
       "      <td>11277.60</td>\n",
       "      <td>False</td>\n",
       "      <td>262.97</td>\n",
       "      <td>47.85</td>\n",
       "      <td>2025-06-21 23:30:00+00:00</td>\n",
       "      <td>2025</td>\n",
       "      <td>6</td>\n",
       "      <td>21</td>\n",
       "      <td>23</td>\n",
       "      <td>30</td>\n",
       "      <td>0</td>\n",
       "      <td>1</td>\n",
       "      <td>0_1</td>\n",
       "    </tr>\n",
       "    <tr>\n",
       "      <th>...</th>\n",
       "      <td>...</td>\n",
       "      <td>...</td>\n",
       "      <td>...</td>\n",
       "      <td>...</td>\n",
       "      <td>...</td>\n",
       "      <td>...</td>\n",
       "      <td>...</td>\n",
       "      <td>...</td>\n",
       "      <td>...</td>\n",
       "      <td>...</td>\n",
       "      <td>...</td>\n",
       "      <td>...</td>\n",
       "      <td>...</td>\n",
       "      <td>...</td>\n",
       "      <td>...</td>\n",
       "      <td>...</td>\n",
       "      <td>...</td>\n",
       "      <td>...</td>\n",
       "      <td>...</td>\n",
       "      <td>...</td>\n",
       "    </tr>\n",
       "    <tr>\n",
       "      <th>15617</th>\n",
       "      <td>347259</td>\n",
       "      <td>AVA217</td>\n",
       "      <td>Spain</td>\n",
       "      <td>1750560445</td>\n",
       "      <td>1750560445</td>\n",
       "      <td>-60.2880</td>\n",
       "      <td>-33.2445</td>\n",
       "      <td>11277.60</td>\n",
       "      <td>False</td>\n",
       "      <td>259.55</td>\n",
       "      <td>144.36</td>\n",
       "      <td>2025-06-22 02:47:00+00:00</td>\n",
       "      <td>2025</td>\n",
       "      <td>6</td>\n",
       "      <td>22</td>\n",
       "      <td>2</td>\n",
       "      <td>47</td>\n",
       "      <td>0</td>\n",
       "      <td>0</td>\n",
       "      <td>0_0</td>\n",
       "    </tr>\n",
       "    <tr>\n",
       "      <th>15618</th>\n",
       "      <td>e80218</td>\n",
       "      <td>LAN096</td>\n",
       "      <td>Chile</td>\n",
       "      <td>1750560084</td>\n",
       "      <td>1750560084</td>\n",
       "      <td>-73.3556</td>\n",
       "      <td>-45.3148</td>\n",
       "      <td>10972.80</td>\n",
       "      <td>False</td>\n",
       "      <td>249.04</td>\n",
       "      <td>5.33</td>\n",
       "      <td>2025-06-22 02:41:00+00:00</td>\n",
       "      <td>2025</td>\n",
       "      <td>6</td>\n",
       "      <td>22</td>\n",
       "      <td>2</td>\n",
       "      <td>41</td>\n",
       "      <td>0</td>\n",
       "      <td>0</td>\n",
       "      <td>0_0</td>\n",
       "    </tr>\n",
       "    <tr>\n",
       "      <th>15619</th>\n",
       "      <td>347259</td>\n",
       "      <td>AVA217</td>\n",
       "      <td>Spain</td>\n",
       "      <td>1750560082</td>\n",
       "      <td>1750560082</td>\n",
       "      <td>-60.8659</td>\n",
       "      <td>-32.5615</td>\n",
       "      <td>11277.60</td>\n",
       "      <td>False</td>\n",
       "      <td>252.97</td>\n",
       "      <td>144.44</td>\n",
       "      <td>2025-06-22 02:41:00+00:00</td>\n",
       "      <td>2025</td>\n",
       "      <td>6</td>\n",
       "      <td>22</td>\n",
       "      <td>2</td>\n",
       "      <td>41</td>\n",
       "      <td>0</td>\n",
       "      <td>0</td>\n",
       "      <td>0_0</td>\n",
       "    </tr>\n",
       "    <tr>\n",
       "      <th>15620</th>\n",
       "      <td>347259</td>\n",
       "      <td>AVA217</td>\n",
       "      <td>Spain</td>\n",
       "      <td>1750560359</td>\n",
       "      <td>1750560359</td>\n",
       "      <td>-60.4274</td>\n",
       "      <td>-33.0809</td>\n",
       "      <td>11277.60</td>\n",
       "      <td>False</td>\n",
       "      <td>259.96</td>\n",
       "      <td>144.42</td>\n",
       "      <td>2025-06-22 02:46:00+00:00</td>\n",
       "      <td>2025</td>\n",
       "      <td>6</td>\n",
       "      <td>22</td>\n",
       "      <td>2</td>\n",
       "      <td>46</td>\n",
       "      <td>0</td>\n",
       "      <td>0</td>\n",
       "      <td>0_0</td>\n",
       "    </tr>\n",
       "    <tr>\n",
       "      <th>15621</th>\n",
       "      <td>347259</td>\n",
       "      <td>AVA217</td>\n",
       "      <td>Spain</td>\n",
       "      <td>1750560486</td>\n",
       "      <td>1750560486</td>\n",
       "      <td>-60.2208</td>\n",
       "      <td>-33.3230</td>\n",
       "      <td>11094.72</td>\n",
       "      <td>False</td>\n",
       "      <td>258.83</td>\n",
       "      <td>144.38</td>\n",
       "      <td>2025-06-22 02:49:00+00:00</td>\n",
       "      <td>2025</td>\n",
       "      <td>6</td>\n",
       "      <td>22</td>\n",
       "      <td>2</td>\n",
       "      <td>49</td>\n",
       "      <td>0</td>\n",
       "      <td>0</td>\n",
       "      <td>0_0</td>\n",
       "    </tr>\n",
       "  </tbody>\n",
       "</table>\n",
       "<p>15622 rows × 20 columns</p>\n",
       "</div>"
      ],
      "text/plain": [
       "       icao24 callsign origin_country  time_position  last_contact  longitude  \\\n",
       "0      e8021b  LPE2368          Chile     1750548596    1750548596   -59.7568   \n",
       "1      e80204   LAN772          Chile     1750548577    1750548577   -48.4337   \n",
       "2      e0b244  ARG1255      Argentina     1750548596    1750548596   -51.8828   \n",
       "3      e07583  ARG1843      Argentina     1750548595    1750548596   -58.3590   \n",
       "4      e49eef  GLO7705         Brazil     1750548595    1750548596   -48.9696   \n",
       "...       ...      ...            ...            ...           ...        ...   \n",
       "15617  347259   AVA217          Spain     1750560445    1750560445   -60.2880   \n",
       "15618  e80218   LAN096          Chile     1750560084    1750560084   -73.3556   \n",
       "15619  347259   AVA217          Spain     1750560082    1750560082   -60.8659   \n",
       "15620  347259   AVA217          Spain     1750560359    1750560359   -60.4274   \n",
       "15621  347259   AVA217          Spain     1750560486    1750560486   -60.2208   \n",
       "\n",
       "       latitude  baro_altitude  on_ground  velocity  heading  \\\n",
       "0      -32.8455       10934.70      False    221.01   329.20   \n",
       "1      -25.7672       10652.76      False    287.70    65.04   \n",
       "2      -29.2480       12192.00      False    208.18   226.80   \n",
       "3      -34.5908         335.28      False     61.21   303.69   \n",
       "4      -28.2255       11277.60      False    262.97    47.85   \n",
       "...         ...            ...        ...       ...      ...   \n",
       "15617  -33.2445       11277.60      False    259.55   144.36   \n",
       "15618  -45.3148       10972.80      False    249.04     5.33   \n",
       "15619  -32.5615       11277.60      False    252.97   144.44   \n",
       "15620  -33.0809       11277.60      False    259.96   144.42   \n",
       "15621  -33.3230       11094.72      False    258.83   144.38   \n",
       "\n",
       "                       timestamp   año  mes  dia  hora  minuto  lat_bin  \\\n",
       "0      2025-06-21 23:30:00+00:00  2025    6   21    23      30        0   \n",
       "1      2025-06-21 23:30:00+00:00  2025    6   21    23      30        0   \n",
       "2      2025-06-21 23:30:00+00:00  2025    6   21    23      30        0   \n",
       "3      2025-06-21 23:30:00+00:00  2025    6   21    23      30        0   \n",
       "4      2025-06-21 23:30:00+00:00  2025    6   21    23      30        0   \n",
       "...                          ...   ...  ...  ...   ...     ...      ...   \n",
       "15617  2025-06-22 02:47:00+00:00  2025    6   22     2      47        0   \n",
       "15618  2025-06-22 02:41:00+00:00  2025    6   22     2      41        0   \n",
       "15619  2025-06-22 02:41:00+00:00  2025    6   22     2      41        0   \n",
       "15620  2025-06-22 02:46:00+00:00  2025    6   22     2      46        0   \n",
       "15621  2025-06-22 02:49:00+00:00  2025    6   22     2      49        0   \n",
       "\n",
       "       lon_bin zone_id  \n",
       "0            1     0_1  \n",
       "1            1     0_1  \n",
       "2            1     0_1  \n",
       "3            1     0_1  \n",
       "4            1     0_1  \n",
       "...        ...     ...  \n",
       "15617        0     0_0  \n",
       "15618        0     0_0  \n",
       "15619        0     0_0  \n",
       "15620        0     0_0  \n",
       "15621        0     0_0  \n",
       "\n",
       "[15622 rows x 20 columns]"
      ]
     },
     "execution_count": 2,
     "metadata": {},
     "output_type": "execute_result"
    }
   ],
   "source": [
    "df = pd.read_csv('max_df_all_features.csv')\n",
    "df"
   ]
  },
  {
   "cell_type": "markdown",
   "metadata": {
    "cell_id": "83076a3870044c8b84f940b36790e0fe",
    "deepnote_cell_type": "text-cell-p",
    "formattedRanges": []
   },
   "source": [
    "Verificamos los tipos de datos, las columnas y que no hayan nulo"
   ]
  },
  {
   "cell_type": "code",
   "execution_count": 3,
   "metadata": {
    "cell_id": "be9338f8d14545dfab9e65bbb6fcc9ac",
    "deepnote_cell_type": "code",
    "execution_context_id": "7d0b0781-e639-41a3-8ee6-9cb9657a33e9",
    "execution_millis": 1,
    "execution_start": 1750633485645,
    "source_hash": "52430027"
   },
   "outputs": [
    {
     "data": {
      "text/plain": [
       "icao24             object\n",
       "callsign           object\n",
       "origin_country     object\n",
       "time_position       int64\n",
       "last_contact        int64\n",
       "longitude         float64\n",
       "latitude          float64\n",
       "baro_altitude     float64\n",
       "on_ground            bool\n",
       "velocity          float64\n",
       "heading           float64\n",
       "timestamp          object\n",
       "año                 int64\n",
       "mes                 int64\n",
       "dia                 int64\n",
       "hora                int64\n",
       "minuto              int64\n",
       "lat_bin             int64\n",
       "lon_bin             int64\n",
       "zone_id            object\n",
       "dtype: object"
      ]
     },
     "execution_count": 3,
     "metadata": {},
     "output_type": "execute_result"
    }
   ],
   "source": [
    "df.dtypes"
   ]
  },
  {
   "cell_type": "code",
   "execution_count": 4,
   "metadata": {
    "cell_id": "30504b1ef7da481c961a01d0b87511fa",
    "deepnote_cell_type": "code",
    "execution_context_id": "7d0b0781-e639-41a3-8ee6-9cb9657a33e9",
    "execution_millis": 0,
    "execution_start": 1750633485696,
    "source_hash": "25d43fa0"
   },
   "outputs": [
    {
     "data": {
      "text/plain": [
       "Index(['icao24', 'callsign', 'origin_country', 'time_position', 'last_contact',\n",
       "       'longitude', 'latitude', 'baro_altitude', 'on_ground', 'velocity',\n",
       "       'heading', 'timestamp', 'año', 'mes', 'dia', 'hora', 'minuto',\n",
       "       'lat_bin', 'lon_bin', 'zone_id'],\n",
       "      dtype='object')"
      ]
     },
     "execution_count": 4,
     "metadata": {},
     "output_type": "execute_result"
    }
   ],
   "source": [
    "df.columns"
   ]
  },
  {
   "cell_type": "code",
   "execution_count": 5,
   "metadata": {
    "cell_id": "1cd1f9e51e1540e5ae1fd0450441b51b",
    "deepnote_cell_type": "code",
    "execution_context_id": "7d0b0781-e639-41a3-8ee6-9cb9657a33e9",
    "execution_millis": 1,
    "execution_start": 1750633485755,
    "source_hash": "d794f466"
   },
   "outputs": [
    {
     "data": {
      "text/plain": [
       "icao24            0\n",
       "callsign          0\n",
       "origin_country    0\n",
       "time_position     0\n",
       "last_contact      0\n",
       "longitude         0\n",
       "latitude          0\n",
       "baro_altitude     0\n",
       "on_ground         0\n",
       "velocity          0\n",
       "heading           0\n",
       "timestamp         0\n",
       "año               0\n",
       "mes               0\n",
       "dia               0\n",
       "hora              0\n",
       "minuto            0\n",
       "lat_bin           0\n",
       "lon_bin           0\n",
       "zone_id           0\n",
       "dtype: int64"
      ]
     },
     "execution_count": 5,
     "metadata": {},
     "output_type": "execute_result"
    }
   ],
   "source": [
    "df.isna().sum()"
   ]
  },
  {
   "cell_type": "markdown",
   "metadata": {
    "cell_id": "86cdadca787041199522bedf795e90a7",
    "deepnote_cell_type": "text-cell-p",
    "formattedRanges": []
   },
   "source": [
    "Cambiamos el tipo de dato a timestamp para que sea de tipo datetime"
   ]
  },
  {
   "cell_type": "code",
   "execution_count": 6,
   "metadata": {
    "cell_id": "244e3b114f3441d2bbcc649abca6edab",
    "deepnote_cell_type": "code",
    "execution_context_id": "7d0b0781-e639-41a3-8ee6-9cb9657a33e9",
    "execution_millis": 1,
    "execution_start": 1750633485805,
    "source_hash": "3ed88c14"
   },
   "outputs": [
    {
     "data": {
      "text/plain": [
       "icao24                         object\n",
       "callsign                       object\n",
       "origin_country                 object\n",
       "time_position                   int64\n",
       "last_contact                    int64\n",
       "longitude                     float64\n",
       "latitude                      float64\n",
       "baro_altitude                 float64\n",
       "on_ground                        bool\n",
       "velocity                      float64\n",
       "heading                       float64\n",
       "timestamp         datetime64[ns, UTC]\n",
       "año                             int64\n",
       "mes                             int64\n",
       "dia                             int64\n",
       "hora                            int64\n",
       "minuto                          int64\n",
       "lat_bin                         int64\n",
       "lon_bin                         int64\n",
       "zone_id                        object\n",
       "dtype: object"
      ]
     },
     "execution_count": 6,
     "metadata": {},
     "output_type": "execute_result"
    }
   ],
   "source": [
    "df['timestamp'] = pd.to_datetime(df['timestamp'])\n",
    "df.dtypes"
   ]
  },
  {
   "cell_type": "markdown",
   "metadata": {
    "cell_id": "9a66af6344814fc88c984864e520c767",
    "deepnote_cell_type": "text-cell-p",
    "formattedRanges": []
   },
   "source": [
    "Extraemos el tiempo en minutos desde el dia que inicio la absorcion de data"
   ]
  },
  {
   "cell_type": "code",
   "execution_count": 7,
   "metadata": {
    "cell_id": "68ba9db478404625ab3357c0b60b9b92",
    "deepnote_cell_type": "code",
    "execution_context_id": "7d0b0781-e639-41a3-8ee6-9cb9657a33e9",
    "execution_millis": 66,
    "execution_start": 1750633485855,
    "source_hash": "9d75fc64"
   },
   "outputs": [
    {
     "data": {
      "application/vnd.deepnote.dataframe.v3+json": {
       "column_count": 21,
       "columns": [
        {
         "dtype": "object",
         "name": "icao24",
         "stats": {
          "categories": [
           {
            "count": 119,
            "name": "e0814b"
           },
           {
            "count": 107,
            "name": "e4a012"
           },
           {
            "count": 15396,
            "name": "512 others"
           }
          ],
          "histogram": null,
          "max": null,
          "min": null,
          "nan_count": 0,
          "unique_count": 514
         }
        },
        {
         "dtype": "object",
         "name": "callsign",
         "stats": {
          "categories": [
           {
            "count": 314,
            "name": "unidentified"
           },
           {
            "count": 118,
            "name": "JES3815"
           },
           {
            "count": 15190,
            "name": "572 others"
           }
          ],
          "histogram": null,
          "max": null,
          "min": null,
          "nan_count": 0,
          "unique_count": 574
         }
        },
        {
         "dtype": "object",
         "name": "origin_country",
         "stats": {
          "categories": [
           {
            "count": 7966,
            "name": "Brazil"
           },
           {
            "count": 2229,
            "name": "Chile"
           },
           {
            "count": 5427,
            "name": "27 others"
           }
          ],
          "histogram": null,
          "max": null,
          "min": null,
          "nan_count": 0,
          "unique_count": 29
         }
        },
        {
         "dtype": "int64",
         "name": "time_position",
         "stats": {
          "categories": null,
          "histogram": [
           {
            "bin_end": 1750549267.1,
            "bin_start": 1750547951,
            "count": 1469
           },
           {
            "bin_end": 1750550583.2,
            "bin_start": 1750549267.1,
            "count": 2051
           },
           {
            "bin_end": 1750551899.3,
            "bin_start": 1750550583.2,
            "count": 1866
           },
           {
            "bin_end": 1750553215.4,
            "bin_start": 1750551899.3,
            "count": 1667
           },
           {
            "bin_end": 1750554531.5,
            "bin_start": 1750553215.4,
            "count": 1335
           },
           {
            "bin_end": 1750555847.6,
            "bin_start": 1750554531.5,
            "count": 1207
           },
           {
            "bin_end": 1750557163.7,
            "bin_start": 1750555847.6,
            "count": 1465
           },
           {
            "bin_end": 1750558479.8,
            "bin_start": 1750557163.7,
            "count": 1501
           },
           {
            "bin_end": 1750559795.9,
            "bin_start": 1750558479.8,
            "count": 1525
           },
           {
            "bin_end": 1750561112,
            "bin_start": 1750559795.9,
            "count": 1536
           }
          ],
          "max": "1750561112",
          "min": "1750547951",
          "nan_count": 0,
          "unique_count": 3603
         }
        },
        {
         "dtype": "int64",
         "name": "last_contact",
         "stats": {
          "categories": null,
          "histogram": [
           {
            "bin_end": 1750549297.7,
            "bin_start": 1750547985,
            "count": 1470
           },
           {
            "bin_end": 1750550610.4,
            "bin_start": 1750549297.7,
            "count": 2048
           },
           {
            "bin_end": 1750551923.1,
            "bin_start": 1750550610.4,
            "count": 1885
           },
           {
            "bin_end": 1750553235.8,
            "bin_start": 1750551923.1,
            "count": 1649
           },
           {
            "bin_end": 1750554548.5,
            "bin_start": 1750553235.8,
            "count": 1336
           },
           {
            "bin_end": 1750555861.2,
            "bin_start": 1750554548.5,
            "count": 1258
           },
           {
            "bin_end": 1750557173.9,
            "bin_start": 1750555861.2,
            "count": 1415
           },
           {
            "bin_end": 1750558486.6,
            "bin_start": 1750557173.9,
            "count": 1499
           },
           {
            "bin_end": 1750559799.3,
            "bin_start": 1750558486.6,
            "count": 1525
           },
           {
            "bin_end": 1750561112,
            "bin_start": 1750559799.3,
            "count": 1537
           }
          ],
          "max": "1750561112",
          "min": "1750547985",
          "nan_count": 0,
          "unique_count": 3116
         }
        },
        {
         "dtype": "float64",
         "name": "longitude",
         "stats": {
          "categories": null,
          "histogram": [
           {
            "bin_end": -84.38852,
            "bin_start": -89.9866,
            "count": 587
           },
           {
            "bin_end": -78.79043999999999,
            "bin_start": -84.38852,
            "count": 264
           },
           {
            "bin_end": -73.19236,
            "bin_start": -78.79043999999999,
            "count": 1446
           },
           {
            "bin_end": -67.59428,
            "bin_start": -73.19236,
            "count": 320
           },
           {
            "bin_end": -61.9962,
            "bin_start": -67.59428,
            "count": 275
           },
           {
            "bin_end": -56.39812,
            "bin_start": -61.9962,
            "count": 3038
           },
           {
            "bin_end": -50.800039999999996,
            "bin_start": -56.39812,
            "count": 474
           },
           {
            "bin_end": -45.20196,
            "bin_start": -50.800039999999996,
            "count": 6285
           },
           {
            "bin_end": -39.603880000000004,
            "bin_start": -45.20196,
            "count": 1901
           },
           {
            "bin_end": -34.0058,
            "bin_start": -39.603880000000004,
            "count": 1032
           }
          ],
          "max": "-34.0058",
          "min": "-89.9866",
          "nan_count": 0,
          "unique_count": 14671
         }
        },
        {
         "dtype": "float64",
         "name": "latitude"
        },
        {
         "dtype": "float64",
         "name": "baro_altitude"
        },
        {
         "dtype": "bool",
         "name": "on_ground"
        },
        {
         "dtype": "float64",
         "name": "velocity"
        },
        {
         "dtype": "float64",
         "name": "heading"
        },
        {
         "dtype": "datetime64[ns, UTC]",
         "name": "timestamp"
        },
        {
         "dtype": "int64",
         "name": "año"
        },
        {
         "dtype": "int64",
         "name": "mes"
        },
        {
         "dtype": "int64",
         "name": "dia"
        },
        {
         "dtype": "int64",
         "name": "hora"
        },
        {
         "dtype": "int64",
         "name": "minuto"
        },
        {
         "dtype": "int64",
         "name": "lat_bin"
        },
        {
         "dtype": "int64",
         "name": "lon_bin"
        },
        {
         "dtype": "object",
         "name": "zone_id"
        },
        {
         "dtype": "int32",
         "name": "time_minutes"
        },
        {
         "dtype": "int64",
         "name": "_deepnote_index_column"
        }
       ],
       "preview_row_count": 15622,
       "row_count": 15622,
       "rows": [
        {
         "_deepnote_index_column": 0,
         "año": 2025,
         "baro_altitude": 10934.7,
         "callsign": "LPE2368",
         "dia": 21,
         "heading": 329.2,
         "hora": 23,
         "icao24": "e8021b",
         "last_contact": 1750548596,
         "lat_bin": 0,
         "latitude": -32.8455,
         "lon_bin": 1,
         "longitude": -59.7568,
         "mes": 6,
         "minuto": 30,
         "on_ground": "False",
         "origin_country": "Chile",
         "time_minutes": 1410,
         "time_position": 1750548596,
         "timestamp": "2025-06-21 23:30:00+00:00",
         "velocity": 221.01,
         "zone_id": "0_1"
        },
        {
         "_deepnote_index_column": 1,
         "año": 2025,
         "baro_altitude": 10652.76,
         "callsign": "LAN772",
         "dia": 21,
         "heading": 65.04,
         "hora": 23,
         "icao24": "e80204",
         "last_contact": 1750548577,
         "lat_bin": 0,
         "latitude": -25.7672,
         "lon_bin": 1,
         "longitude": -48.4337,
         "mes": 6,
         "minuto": 30,
         "on_ground": "False",
         "origin_country": "Chile",
         "time_minutes": 1410,
         "time_position": 1750548577,
         "timestamp": "2025-06-21 23:30:00+00:00",
         "velocity": 287.7,
         "zone_id": "0_1"
        },
        {
         "_deepnote_index_column": 2,
         "año": 2025,
         "baro_altitude": 12192,
         "callsign": "ARG1255",
         "dia": 21,
         "heading": 226.8,
         "hora": 23,
         "icao24": "e0b244",
         "last_contact": 1750548596,
         "lat_bin": 0,
         "latitude": -29.248,
         "lon_bin": 1,
         "longitude": -51.8828,
         "mes": 6,
         "minuto": 30,
         "on_ground": "False",
         "origin_country": "Argentina",
         "time_minutes": 1410,
         "time_position": 1750548596,
         "timestamp": "2025-06-21 23:30:00+00:00",
         "velocity": 208.18,
         "zone_id": "0_1"
        },
        {
         "_deepnote_index_column": 3,
         "año": 2025,
         "baro_altitude": 335.28,
         "callsign": "ARG1843",
         "dia": 21,
         "heading": 303.69,
         "hora": 23,
         "icao24": "e07583",
         "last_contact": 1750548596,
         "lat_bin": 0,
         "latitude": -34.5908,
         "lon_bin": 1,
         "longitude": -58.359,
         "mes": 6,
         "minuto": 30,
         "on_ground": "False",
         "origin_country": "Argentina",
         "time_minutes": 1410,
         "time_position": 1750548595,
         "timestamp": "2025-06-21 23:30:00+00:00",
         "velocity": 61.21,
         "zone_id": "0_1"
        },
        {
         "_deepnote_index_column": 4,
         "año": 2025,
         "baro_altitude": 11277.6,
         "callsign": "GLO7705",
         "dia": 21,
         "heading": 47.85,
         "hora": 23,
         "icao24": "e49eef",
         "last_contact": 1750548596,
         "lat_bin": 0,
         "latitude": -28.2255,
         "lon_bin": 1,
         "longitude": -48.9696,
         "mes": 6,
         "minuto": 30,
         "on_ground": "False",
         "origin_country": "Brazil",
         "time_minutes": 1410,
         "time_position": 1750548595,
         "timestamp": "2025-06-21 23:30:00+00:00",
         "velocity": 262.97,
         "zone_id": "0_1"
        },
        {
         "_deepnote_index_column": 5,
         "año": 2025,
         "baro_altitude": 11513.82,
         "callsign": "FBZ5903",
         "dia": 21,
         "heading": 228.13,
         "hora": 23,
         "icao24": "e0b284",
         "last_contact": 1750548596,
         "lat_bin": 0,
         "latitude": -29.7337,
         "lon_bin": 1,
         "longitude": -50.83,
         "mes": 6,
         "minuto": 30,
         "on_ground": "False",
         "origin_country": "Argentina",
         "time_minutes": 1410,
         "time_position": 1750548596,
         "timestamp": "2025-06-21 23:30:00+00:00",
         "velocity": 206.56,
         "zone_id": "0_1"
        },
        {
         "_deepnote_index_column": 6,
         "año": 2025,
         "baro_altitude": 1790.7,
         "callsign": "TAM3411",
         "dia": 21,
         "heading": 191.57,
         "hora": 23,
         "icao24": "e48c4d",
         "last_contact": 1750548596,
         "lat_bin": 0,
         "latitude": -23.4185,
         "lon_bin": 1,
         "longitude": -46.6944,
         "mes": 6,
         "minuto": 30,
         "on_ground": "False",
         "origin_country": "Brazil",
         "time_minutes": 1410,
         "time_position": 1750548596,
         "timestamp": "2025-06-21 23:30:00+00:00",
         "velocity": 110.27,
         "zone_id": "0_1"
        },
        {
         "_deepnote_index_column": 7,
         "año": 2025,
         "baro_altitude": 5996.94,
         "callsign": "GLO7691",
         "dia": 21,
         "heading": 53.92,
         "hora": 23,
         "icao24": "e48c05",
         "last_contact": 1750548596,
         "lat_bin": 0,
         "latitude": -34.4372,
         "lon_bin": 1,
         "longitude": -57.6403,
         "mes": 6,
         "minuto": 30,
         "on_ground": "False",
         "origin_country": "Brazil",
         "time_minutes": 1410,
         "time_position": 1750548596,
         "timestamp": "2025-06-21 23:30:00+00:00",
         "velocity": 215.78,
         "zone_id": "0_1"
        },
        {
         "_deepnote_index_column": 8,
         "año": 2025,
         "baro_altitude": 10668,
         "callsign": "FBZ5104",
         "dia": 21,
         "heading": 12.85,
         "hora": 23,
         "icao24": "e0b0c5",
         "last_contact": 1750548557,
         "lat_bin": 0,
         "latitude": -31.7444,
         "lon_bin": 1,
         "longitude": -58.0669,
         "mes": 6,
         "minuto": 30,
         "on_ground": "False",
         "origin_country": "Argentina",
         "time_minutes": 1410,
         "time_position": 1750548556,
         "timestamp": "2025-06-21 23:30:00+00:00",
         "velocity": 247.47,
         "zone_id": "0_1"
        },
        {
         "_deepnote_index_column": 9,
         "año": 2025,
         "baro_altitude": 11582.4,
         "callsign": "AZU4150",
         "dia": 21,
         "heading": 213.48,
         "hora": 23,
         "icao24": "e49f5b",
         "last_contact": 1750548597,
         "lat_bin": 0,
         "latitude": -27.7315,
         "lon_bin": 1,
         "longitude": -49.6383,
         "mes": 6,
         "minuto": 30,
         "on_ground": "False",
         "origin_country": "Brazil",
         "time_minutes": 1410,
         "time_position": 1750548595,
         "timestamp": "2025-06-21 23:30:00+00:00",
         "velocity": 196.76,
         "zone_id": "0_1"
        }
       ],
       "type": "dataframe"
      },
      "text/html": [
       "<div>\n",
       "<style scoped>\n",
       "    .dataframe tbody tr th:only-of-type {\n",
       "        vertical-align: middle;\n",
       "    }\n",
       "\n",
       "    .dataframe tbody tr th {\n",
       "        vertical-align: top;\n",
       "    }\n",
       "\n",
       "    .dataframe thead th {\n",
       "        text-align: right;\n",
       "    }\n",
       "</style>\n",
       "<table border=\"1\" class=\"dataframe\">\n",
       "  <thead>\n",
       "    <tr style=\"text-align: right;\">\n",
       "      <th></th>\n",
       "      <th>icao24</th>\n",
       "      <th>callsign</th>\n",
       "      <th>origin_country</th>\n",
       "      <th>time_position</th>\n",
       "      <th>last_contact</th>\n",
       "      <th>longitude</th>\n",
       "      <th>latitude</th>\n",
       "      <th>baro_altitude</th>\n",
       "      <th>on_ground</th>\n",
       "      <th>velocity</th>\n",
       "      <th>...</th>\n",
       "      <th>timestamp</th>\n",
       "      <th>año</th>\n",
       "      <th>mes</th>\n",
       "      <th>dia</th>\n",
       "      <th>hora</th>\n",
       "      <th>minuto</th>\n",
       "      <th>lat_bin</th>\n",
       "      <th>lon_bin</th>\n",
       "      <th>zone_id</th>\n",
       "      <th>time_minutes</th>\n",
       "    </tr>\n",
       "  </thead>\n",
       "  <tbody>\n",
       "    <tr>\n",
       "      <th>0</th>\n",
       "      <td>e8021b</td>\n",
       "      <td>LPE2368</td>\n",
       "      <td>Chile</td>\n",
       "      <td>1750548596</td>\n",
       "      <td>1750548596</td>\n",
       "      <td>-59.7568</td>\n",
       "      <td>-32.8455</td>\n",
       "      <td>10934.70</td>\n",
       "      <td>False</td>\n",
       "      <td>221.01</td>\n",
       "      <td>...</td>\n",
       "      <td>2025-06-21 23:30:00+00:00</td>\n",
       "      <td>2025</td>\n",
       "      <td>6</td>\n",
       "      <td>21</td>\n",
       "      <td>23</td>\n",
       "      <td>30</td>\n",
       "      <td>0</td>\n",
       "      <td>1</td>\n",
       "      <td>0_1</td>\n",
       "      <td>1410</td>\n",
       "    </tr>\n",
       "    <tr>\n",
       "      <th>1</th>\n",
       "      <td>e80204</td>\n",
       "      <td>LAN772</td>\n",
       "      <td>Chile</td>\n",
       "      <td>1750548577</td>\n",
       "      <td>1750548577</td>\n",
       "      <td>-48.4337</td>\n",
       "      <td>-25.7672</td>\n",
       "      <td>10652.76</td>\n",
       "      <td>False</td>\n",
       "      <td>287.70</td>\n",
       "      <td>...</td>\n",
       "      <td>2025-06-21 23:30:00+00:00</td>\n",
       "      <td>2025</td>\n",
       "      <td>6</td>\n",
       "      <td>21</td>\n",
       "      <td>23</td>\n",
       "      <td>30</td>\n",
       "      <td>0</td>\n",
       "      <td>1</td>\n",
       "      <td>0_1</td>\n",
       "      <td>1410</td>\n",
       "    </tr>\n",
       "    <tr>\n",
       "      <th>2</th>\n",
       "      <td>e0b244</td>\n",
       "      <td>ARG1255</td>\n",
       "      <td>Argentina</td>\n",
       "      <td>1750548596</td>\n",
       "      <td>1750548596</td>\n",
       "      <td>-51.8828</td>\n",
       "      <td>-29.2480</td>\n",
       "      <td>12192.00</td>\n",
       "      <td>False</td>\n",
       "      <td>208.18</td>\n",
       "      <td>...</td>\n",
       "      <td>2025-06-21 23:30:00+00:00</td>\n",
       "      <td>2025</td>\n",
       "      <td>6</td>\n",
       "      <td>21</td>\n",
       "      <td>23</td>\n",
       "      <td>30</td>\n",
       "      <td>0</td>\n",
       "      <td>1</td>\n",
       "      <td>0_1</td>\n",
       "      <td>1410</td>\n",
       "    </tr>\n",
       "    <tr>\n",
       "      <th>3</th>\n",
       "      <td>e07583</td>\n",
       "      <td>ARG1843</td>\n",
       "      <td>Argentina</td>\n",
       "      <td>1750548595</td>\n",
       "      <td>1750548596</td>\n",
       "      <td>-58.3590</td>\n",
       "      <td>-34.5908</td>\n",
       "      <td>335.28</td>\n",
       "      <td>False</td>\n",
       "      <td>61.21</td>\n",
       "      <td>...</td>\n",
       "      <td>2025-06-21 23:30:00+00:00</td>\n",
       "      <td>2025</td>\n",
       "      <td>6</td>\n",
       "      <td>21</td>\n",
       "      <td>23</td>\n",
       "      <td>30</td>\n",
       "      <td>0</td>\n",
       "      <td>1</td>\n",
       "      <td>0_1</td>\n",
       "      <td>1410</td>\n",
       "    </tr>\n",
       "    <tr>\n",
       "      <th>4</th>\n",
       "      <td>e49eef</td>\n",
       "      <td>GLO7705</td>\n",
       "      <td>Brazil</td>\n",
       "      <td>1750548595</td>\n",
       "      <td>1750548596</td>\n",
       "      <td>-48.9696</td>\n",
       "      <td>-28.2255</td>\n",
       "      <td>11277.60</td>\n",
       "      <td>False</td>\n",
       "      <td>262.97</td>\n",
       "      <td>...</td>\n",
       "      <td>2025-06-21 23:30:00+00:00</td>\n",
       "      <td>2025</td>\n",
       "      <td>6</td>\n",
       "      <td>21</td>\n",
       "      <td>23</td>\n",
       "      <td>30</td>\n",
       "      <td>0</td>\n",
       "      <td>1</td>\n",
       "      <td>0_1</td>\n",
       "      <td>1410</td>\n",
       "    </tr>\n",
       "    <tr>\n",
       "      <th>...</th>\n",
       "      <td>...</td>\n",
       "      <td>...</td>\n",
       "      <td>...</td>\n",
       "      <td>...</td>\n",
       "      <td>...</td>\n",
       "      <td>...</td>\n",
       "      <td>...</td>\n",
       "      <td>...</td>\n",
       "      <td>...</td>\n",
       "      <td>...</td>\n",
       "      <td>...</td>\n",
       "      <td>...</td>\n",
       "      <td>...</td>\n",
       "      <td>...</td>\n",
       "      <td>...</td>\n",
       "      <td>...</td>\n",
       "      <td>...</td>\n",
       "      <td>...</td>\n",
       "      <td>...</td>\n",
       "      <td>...</td>\n",
       "      <td>...</td>\n",
       "    </tr>\n",
       "    <tr>\n",
       "      <th>15617</th>\n",
       "      <td>347259</td>\n",
       "      <td>AVA217</td>\n",
       "      <td>Spain</td>\n",
       "      <td>1750560445</td>\n",
       "      <td>1750560445</td>\n",
       "      <td>-60.2880</td>\n",
       "      <td>-33.2445</td>\n",
       "      <td>11277.60</td>\n",
       "      <td>False</td>\n",
       "      <td>259.55</td>\n",
       "      <td>...</td>\n",
       "      <td>2025-06-22 02:47:00+00:00</td>\n",
       "      <td>2025</td>\n",
       "      <td>6</td>\n",
       "      <td>22</td>\n",
       "      <td>2</td>\n",
       "      <td>47</td>\n",
       "      <td>0</td>\n",
       "      <td>0</td>\n",
       "      <td>0_0</td>\n",
       "      <td>167</td>\n",
       "    </tr>\n",
       "    <tr>\n",
       "      <th>15618</th>\n",
       "      <td>e80218</td>\n",
       "      <td>LAN096</td>\n",
       "      <td>Chile</td>\n",
       "      <td>1750560084</td>\n",
       "      <td>1750560084</td>\n",
       "      <td>-73.3556</td>\n",
       "      <td>-45.3148</td>\n",
       "      <td>10972.80</td>\n",
       "      <td>False</td>\n",
       "      <td>249.04</td>\n",
       "      <td>...</td>\n",
       "      <td>2025-06-22 02:41:00+00:00</td>\n",
       "      <td>2025</td>\n",
       "      <td>6</td>\n",
       "      <td>22</td>\n",
       "      <td>2</td>\n",
       "      <td>41</td>\n",
       "      <td>0</td>\n",
       "      <td>0</td>\n",
       "      <td>0_0</td>\n",
       "      <td>161</td>\n",
       "    </tr>\n",
       "    <tr>\n",
       "      <th>15619</th>\n",
       "      <td>347259</td>\n",
       "      <td>AVA217</td>\n",
       "      <td>Spain</td>\n",
       "      <td>1750560082</td>\n",
       "      <td>1750560082</td>\n",
       "      <td>-60.8659</td>\n",
       "      <td>-32.5615</td>\n",
       "      <td>11277.60</td>\n",
       "      <td>False</td>\n",
       "      <td>252.97</td>\n",
       "      <td>...</td>\n",
       "      <td>2025-06-22 02:41:00+00:00</td>\n",
       "      <td>2025</td>\n",
       "      <td>6</td>\n",
       "      <td>22</td>\n",
       "      <td>2</td>\n",
       "      <td>41</td>\n",
       "      <td>0</td>\n",
       "      <td>0</td>\n",
       "      <td>0_0</td>\n",
       "      <td>161</td>\n",
       "    </tr>\n",
       "    <tr>\n",
       "      <th>15620</th>\n",
       "      <td>347259</td>\n",
       "      <td>AVA217</td>\n",
       "      <td>Spain</td>\n",
       "      <td>1750560359</td>\n",
       "      <td>1750560359</td>\n",
       "      <td>-60.4274</td>\n",
       "      <td>-33.0809</td>\n",
       "      <td>11277.60</td>\n",
       "      <td>False</td>\n",
       "      <td>259.96</td>\n",
       "      <td>...</td>\n",
       "      <td>2025-06-22 02:46:00+00:00</td>\n",
       "      <td>2025</td>\n",
       "      <td>6</td>\n",
       "      <td>22</td>\n",
       "      <td>2</td>\n",
       "      <td>46</td>\n",
       "      <td>0</td>\n",
       "      <td>0</td>\n",
       "      <td>0_0</td>\n",
       "      <td>166</td>\n",
       "    </tr>\n",
       "    <tr>\n",
       "      <th>15621</th>\n",
       "      <td>347259</td>\n",
       "      <td>AVA217</td>\n",
       "      <td>Spain</td>\n",
       "      <td>1750560486</td>\n",
       "      <td>1750560486</td>\n",
       "      <td>-60.2208</td>\n",
       "      <td>-33.3230</td>\n",
       "      <td>11094.72</td>\n",
       "      <td>False</td>\n",
       "      <td>258.83</td>\n",
       "      <td>...</td>\n",
       "      <td>2025-06-22 02:49:00+00:00</td>\n",
       "      <td>2025</td>\n",
       "      <td>6</td>\n",
       "      <td>22</td>\n",
       "      <td>2</td>\n",
       "      <td>49</td>\n",
       "      <td>0</td>\n",
       "      <td>0</td>\n",
       "      <td>0_0</td>\n",
       "      <td>169</td>\n",
       "    </tr>\n",
       "  </tbody>\n",
       "</table>\n",
       "<p>15622 rows × 21 columns</p>\n",
       "</div>"
      ],
      "text/plain": [
       "       icao24 callsign origin_country  time_position  last_contact  longitude  \\\n",
       "0      e8021b  LPE2368          Chile     1750548596    1750548596   -59.7568   \n",
       "1      e80204   LAN772          Chile     1750548577    1750548577   -48.4337   \n",
       "2      e0b244  ARG1255      Argentina     1750548596    1750548596   -51.8828   \n",
       "3      e07583  ARG1843      Argentina     1750548595    1750548596   -58.3590   \n",
       "4      e49eef  GLO7705         Brazil     1750548595    1750548596   -48.9696   \n",
       "...       ...      ...            ...            ...           ...        ...   \n",
       "15617  347259   AVA217          Spain     1750560445    1750560445   -60.2880   \n",
       "15618  e80218   LAN096          Chile     1750560084    1750560084   -73.3556   \n",
       "15619  347259   AVA217          Spain     1750560082    1750560082   -60.8659   \n",
       "15620  347259   AVA217          Spain     1750560359    1750560359   -60.4274   \n",
       "15621  347259   AVA217          Spain     1750560486    1750560486   -60.2208   \n",
       "\n",
       "       latitude  baro_altitude  on_ground  velocity  ...  \\\n",
       "0      -32.8455       10934.70      False    221.01  ...   \n",
       "1      -25.7672       10652.76      False    287.70  ...   \n",
       "2      -29.2480       12192.00      False    208.18  ...   \n",
       "3      -34.5908         335.28      False     61.21  ...   \n",
       "4      -28.2255       11277.60      False    262.97  ...   \n",
       "...         ...            ...        ...       ...  ...   \n",
       "15617  -33.2445       11277.60      False    259.55  ...   \n",
       "15618  -45.3148       10972.80      False    249.04  ...   \n",
       "15619  -32.5615       11277.60      False    252.97  ...   \n",
       "15620  -33.0809       11277.60      False    259.96  ...   \n",
       "15621  -33.3230       11094.72      False    258.83  ...   \n",
       "\n",
       "                      timestamp   año  mes  dia  hora  minuto  lat_bin  \\\n",
       "0     2025-06-21 23:30:00+00:00  2025    6   21    23      30        0   \n",
       "1     2025-06-21 23:30:00+00:00  2025    6   21    23      30        0   \n",
       "2     2025-06-21 23:30:00+00:00  2025    6   21    23      30        0   \n",
       "3     2025-06-21 23:30:00+00:00  2025    6   21    23      30        0   \n",
       "4     2025-06-21 23:30:00+00:00  2025    6   21    23      30        0   \n",
       "...                         ...   ...  ...  ...   ...     ...      ...   \n",
       "15617 2025-06-22 02:47:00+00:00  2025    6   22     2      47        0   \n",
       "15618 2025-06-22 02:41:00+00:00  2025    6   22     2      41        0   \n",
       "15619 2025-06-22 02:41:00+00:00  2025    6   22     2      41        0   \n",
       "15620 2025-06-22 02:46:00+00:00  2025    6   22     2      46        0   \n",
       "15621 2025-06-22 02:49:00+00:00  2025    6   22     2      49        0   \n",
       "\n",
       "       lon_bin  zone_id time_minutes  \n",
       "0            1      0_1         1410  \n",
       "1            1      0_1         1410  \n",
       "2            1      0_1         1410  \n",
       "3            1      0_1         1410  \n",
       "4            1      0_1         1410  \n",
       "...        ...      ...          ...  \n",
       "15617        0      0_0          167  \n",
       "15618        0      0_0          161  \n",
       "15619        0      0_0          161  \n",
       "15620        0      0_0          166  \n",
       "15621        0      0_0          169  \n",
       "\n",
       "[15622 rows x 21 columns]"
      ]
     },
     "execution_count": 7,
     "metadata": {},
     "output_type": "execute_result"
    }
   ],
   "source": [
    "df['time_minutes'] = df['timestamp'].dt.hour * 60 + df['timestamp'].dt.minute\n",
    "df"
   ]
  },
  {
   "cell_type": "markdown",
   "metadata": {
    "cell_id": "7de2556ecc634b938e4a11f46101bcca",
    "deepnote_cell_type": "text-cell-p",
    "formattedRanges": []
   },
   "source": [
    "Ahora normalizamos las cordenadas y las volvemos a kilometros"
   ]
  },
  {
   "cell_type": "code",
   "execution_count": 8,
   "metadata": {
    "cell_id": "4dd8637b86cf4c41ac9e82d6c2c70fa0",
    "deepnote_cell_type": "code",
    "execution_context_id": "7d0b0781-e639-41a3-8ee6-9cb9657a33e9",
    "execution_millis": 100,
    "execution_start": 1750633485965,
    "source_hash": "811582bd"
   },
   "outputs": [
    {
     "data": {
      "application/vnd.deepnote.dataframe.v3+json": {
       "column_count": 24,
       "columns": [
        {
         "dtype": "object",
         "name": "icao24",
         "stats": {
          "categories": [
           {
            "count": 119,
            "name": "e0814b"
           },
           {
            "count": 107,
            "name": "e4a012"
           },
           {
            "count": 15396,
            "name": "512 others"
           }
          ],
          "histogram": null,
          "max": null,
          "min": null,
          "nan_count": 0,
          "unique_count": 514
         }
        },
        {
         "dtype": "object",
         "name": "callsign",
         "stats": {
          "categories": [
           {
            "count": 314,
            "name": "unidentified"
           },
           {
            "count": 118,
            "name": "JES3815"
           },
           {
            "count": 15190,
            "name": "572 others"
           }
          ],
          "histogram": null,
          "max": null,
          "min": null,
          "nan_count": 0,
          "unique_count": 574
         }
        },
        {
         "dtype": "object",
         "name": "origin_country",
         "stats": {
          "categories": [
           {
            "count": 7966,
            "name": "Brazil"
           },
           {
            "count": 2229,
            "name": "Chile"
           },
           {
            "count": 5427,
            "name": "27 others"
           }
          ],
          "histogram": null,
          "max": null,
          "min": null,
          "nan_count": 0,
          "unique_count": 29
         }
        },
        {
         "dtype": "int64",
         "name": "time_position",
         "stats": {
          "categories": null,
          "histogram": [
           {
            "bin_end": 1750549267.1,
            "bin_start": 1750547951,
            "count": 1469
           },
           {
            "bin_end": 1750550583.2,
            "bin_start": 1750549267.1,
            "count": 2051
           },
           {
            "bin_end": 1750551899.3,
            "bin_start": 1750550583.2,
            "count": 1866
           },
           {
            "bin_end": 1750553215.4,
            "bin_start": 1750551899.3,
            "count": 1667
           },
           {
            "bin_end": 1750554531.5,
            "bin_start": 1750553215.4,
            "count": 1335
           },
           {
            "bin_end": 1750555847.6,
            "bin_start": 1750554531.5,
            "count": 1207
           },
           {
            "bin_end": 1750557163.7,
            "bin_start": 1750555847.6,
            "count": 1465
           },
           {
            "bin_end": 1750558479.8,
            "bin_start": 1750557163.7,
            "count": 1501
           },
           {
            "bin_end": 1750559795.9,
            "bin_start": 1750558479.8,
            "count": 1525
           },
           {
            "bin_end": 1750561112,
            "bin_start": 1750559795.9,
            "count": 1536
           }
          ],
          "max": "1750561112",
          "min": "1750547951",
          "nan_count": 0,
          "unique_count": 3603
         }
        },
        {
         "dtype": "int64",
         "name": "last_contact",
         "stats": {
          "categories": null,
          "histogram": [
           {
            "bin_end": 1750549297.7,
            "bin_start": 1750547985,
            "count": 1470
           },
           {
            "bin_end": 1750550610.4,
            "bin_start": 1750549297.7,
            "count": 2048
           },
           {
            "bin_end": 1750551923.1,
            "bin_start": 1750550610.4,
            "count": 1885
           },
           {
            "bin_end": 1750553235.8,
            "bin_start": 1750551923.1,
            "count": 1649
           },
           {
            "bin_end": 1750554548.5,
            "bin_start": 1750553235.8,
            "count": 1336
           },
           {
            "bin_end": 1750555861.2,
            "bin_start": 1750554548.5,
            "count": 1258
           },
           {
            "bin_end": 1750557173.9,
            "bin_start": 1750555861.2,
            "count": 1415
           },
           {
            "bin_end": 1750558486.6,
            "bin_start": 1750557173.9,
            "count": 1499
           },
           {
            "bin_end": 1750559799.3,
            "bin_start": 1750558486.6,
            "count": 1525
           },
           {
            "bin_end": 1750561112,
            "bin_start": 1750559799.3,
            "count": 1537
           }
          ],
          "max": "1750561112",
          "min": "1750547985",
          "nan_count": 0,
          "unique_count": 3116
         }
        },
        {
         "dtype": "float64",
         "name": "longitude",
         "stats": {
          "categories": null,
          "histogram": [
           {
            "bin_end": -84.38852,
            "bin_start": -89.9866,
            "count": 587
           },
           {
            "bin_end": -78.79043999999999,
            "bin_start": -84.38852,
            "count": 264
           },
           {
            "bin_end": -73.19236,
            "bin_start": -78.79043999999999,
            "count": 1446
           },
           {
            "bin_end": -67.59428,
            "bin_start": -73.19236,
            "count": 320
           },
           {
            "bin_end": -61.9962,
            "bin_start": -67.59428,
            "count": 275
           },
           {
            "bin_end": -56.39812,
            "bin_start": -61.9962,
            "count": 3038
           },
           {
            "bin_end": -50.800039999999996,
            "bin_start": -56.39812,
            "count": 474
           },
           {
            "bin_end": -45.20196,
            "bin_start": -50.800039999999996,
            "count": 6285
           },
           {
            "bin_end": -39.603880000000004,
            "bin_start": -45.20196,
            "count": 1901
           },
           {
            "bin_end": -34.0058,
            "bin_start": -39.603880000000004,
            "count": 1032
           }
          ],
          "max": "-34.0058",
          "min": "-89.9866",
          "nan_count": 0,
          "unique_count": 14671
         }
        },
        {
         "dtype": "float64",
         "name": "latitude"
        },
        {
         "dtype": "float64",
         "name": "baro_altitude"
        },
        {
         "dtype": "bool",
         "name": "on_ground"
        },
        {
         "dtype": "float64",
         "name": "velocity"
        },
        {
         "dtype": "float64",
         "name": "heading"
        },
        {
         "dtype": "datetime64[ns, UTC]",
         "name": "timestamp"
        },
        {
         "dtype": "int64",
         "name": "año"
        },
        {
         "dtype": "int64",
         "name": "mes"
        },
        {
         "dtype": "int64",
         "name": "dia"
        },
        {
         "dtype": "int64",
         "name": "hora"
        },
        {
         "dtype": "int64",
         "name": "minuto"
        },
        {
         "dtype": "int64",
         "name": "lat_bin"
        },
        {
         "dtype": "int64",
         "name": "lon_bin"
        },
        {
         "dtype": "object",
         "name": "zone_id"
        },
        {
         "dtype": "int32",
         "name": "time_minutes"
        },
        {
         "dtype": "float64",
         "name": "x_km"
        },
        {
         "dtype": "float64",
         "name": "y_km"
        },
        {
         "dtype": "float64",
         "name": "altitude_km"
        },
        {
         "dtype": "int64",
         "name": "_deepnote_index_column"
        }
       ],
       "preview_row_count": 15622,
       "row_count": 15622,
       "rows": [
        {
         "_deepnote_index_column": 0,
         "altitude_km": 10.934700000000001,
         "año": 2025,
         "baro_altitude": 10934.7,
         "callsign": "LPE2368",
         "dia": 21,
         "heading": 329.2,
         "hora": 23,
         "icao24": "e8021b",
         "last_contact": 1750548596,
         "lat_bin": 0,
         "latitude": -32.8455,
         "lon_bin": 1,
         "longitude": -59.7568,
         "mes": 6,
         "minuto": 30,
         "on_ground": "False",
         "origin_country": "Chile",
         "time_minutes": 1410,
         "time_position": 1750548596,
         "timestamp": "2025-06-21 23:30:00+00:00",
         "velocity": 221.01,
         "x_km": 803.5603939566865,
         "y_km": 6361.177906785628,
         "zone_id": "0_1"
        },
        {
         "_deepnote_index_column": 1,
         "altitude_km": 10.65276,
         "año": 2025,
         "baro_altitude": 10652.76,
         "callsign": "LAN772",
         "dia": 21,
         "heading": 65.04,
         "hora": 23,
         "icao24": "e80204",
         "last_contact": 1750548577,
         "lat_bin": 0,
         "latitude": -25.7672,
         "lon_bin": 1,
         "longitude": -48.4337,
         "mes": 6,
         "minuto": 30,
         "on_ground": "False",
         "origin_country": "Chile",
         "time_minutes": 1410,
         "time_position": 1750548577,
         "timestamp": "2025-06-21 23:30:00+00:00",
         "velocity": 287.7,
         "x_km": 1970.5065535241936,
         "y_km": 7067.6561135283655,
         "zone_id": "0_1"
        },
        {
         "_deepnote_index_column": 2,
         "altitude_km": 12.192,
         "año": 2025,
         "baro_altitude": 12192,
         "callsign": "ARG1255",
         "dia": 21,
         "heading": 226.8,
         "hora": 23,
         "icao24": "e0b244",
         "last_contact": 1750548596,
         "lat_bin": 0,
         "latitude": -29.248,
         "lon_bin": 1,
         "longitude": -51.8828,
         "mes": 6,
         "minuto": 30,
         "on_ground": "False",
         "origin_country": "Argentina",
         "time_minutes": 1410,
         "time_position": 1750548596,
         "timestamp": "2025-06-21 23:30:00+00:00",
         "velocity": 208.18,
         "x_km": 1583.7835821441975,
         "y_km": 6712.750111328719,
         "zone_id": "0_1"
        },
        {
         "_deepnote_index_column": 3,
         "altitude_km": 0.33527999999999997,
         "año": 2025,
         "baro_altitude": 335.28,
         "callsign": "ARG1843",
         "dia": 21,
         "heading": 303.69,
         "hora": 23,
         "icao24": "e07583",
         "last_contact": 1750548596,
         "lat_bin": 0,
         "latitude": -34.5908,
         "lon_bin": 1,
         "longitude": -58.359,
         "mes": 6,
         "minuto": 30,
         "on_ground": "False",
         "origin_country": "Argentina",
         "time_minutes": 1410,
         "time_position": 1750548595,
         "timestamp": "2025-06-21 23:30:00+00:00",
         "velocity": 61.21,
         "x_km": 925.7629952793923,
         "y_km": 6162.532021133176,
         "zone_id": "0_1"
        },
        {
         "_deepnote_index_column": 4,
         "altitude_km": 11.2776,
         "año": 2025,
         "baro_altitude": 11277.6,
         "callsign": "GLO7705",
         "dia": 21,
         "heading": 47.85,
         "hora": 23,
         "icao24": "e49eef",
         "last_contact": 1750548596,
         "lat_bin": 0,
         "latitude": -28.2255,
         "lon_bin": 1,
         "longitude": -48.9696,
         "mes": 6,
         "minuto": 30,
         "on_ground": "False",
         "origin_country": "Brazil",
         "time_minutes": 1410,
         "time_position": 1750548595,
         "timestamp": "2025-06-21 23:30:00+00:00",
         "velocity": 262.97,
         "x_km": 1884.2764577079854,
         "y_km": 6796.6086227109545,
         "zone_id": "0_1"
        },
        {
         "_deepnote_index_column": 5,
         "altitude_km": 11.513819999999999,
         "año": 2025,
         "baro_altitude": 11513.82,
         "callsign": "FBZ5903",
         "dia": 21,
         "heading": 228.13,
         "hora": 23,
         "icao24": "e0b284",
         "last_contact": 1750548596,
         "lat_bin": 0,
         "latitude": -29.7337,
         "lon_bin": 1,
         "longitude": -50.83,
         "mes": 6,
         "minuto": 30,
         "on_ground": "False",
         "origin_country": "Argentina",
         "time_minutes": 1410,
         "time_position": 1750548596,
         "timestamp": "2025-06-21 23:30:00+00:00",
         "velocity": 206.56,
         "x_km": 1681.4095192864213,
         "y_km": 6647.893221422741,
         "zone_id": "0_1"
        },
        {
         "_deepnote_index_column": 6,
         "altitude_km": 1.7907,
         "año": 2025,
         "baro_altitude": 1790.7,
         "callsign": "TAM3411",
         "dia": 21,
         "heading": 191.57,
         "hora": 23,
         "icao24": "e48c4d",
         "last_contact": 1750548596,
         "lat_bin": 0,
         "latitude": -23.4185,
         "lon_bin": 1,
         "longitude": -46.6944,
         "mes": 6,
         "minuto": 30,
         "on_ground": "False",
         "origin_country": "Brazil",
         "time_minutes": 1410,
         "time_position": 1750548596,
         "timestamp": "2025-06-21 23:30:00+00:00",
         "velocity": 110.27,
         "x_km": 2181.4218082042953,
         "y_km": 7313.274970942952,
         "zone_id": "0_1"
        },
        {
         "_deepnote_index_column": 7,
         "altitude_km": 5.9969399999999995,
         "año": 2025,
         "baro_altitude": 5996.94,
         "callsign": "GLO7691",
         "dia": 21,
         "heading": 53.92,
         "hora": 23,
         "icao24": "e48c05",
         "last_contact": 1750548596,
         "lat_bin": 0,
         "latitude": -34.4372,
         "lon_bin": 1,
         "longitude": -57.6403,
         "mes": 6,
         "minuto": 30,
         "on_ground": "False",
         "origin_country": "Brazil",
         "time_minutes": 1410,
         "time_position": 1750548596,
         "timestamp": "2025-06-21 23:30:00+00:00",
         "velocity": 215.78,
         "x_km": 992.6671077891622,
         "y_km": 6176.312793344796,
         "zone_id": "0_1"
        },
        {
         "_deepnote_index_column": 8,
         "altitude_km": 10.668,
         "año": 2025,
         "baro_altitude": 10668,
         "callsign": "FBZ5104",
         "dia": 21,
         "heading": 12.85,
         "hora": 23,
         "icao24": "e0b0c5",
         "last_contact": 1750548557,
         "lat_bin": 0,
         "latitude": -31.7444,
         "lon_bin": 1,
         "longitude": -58.0669,
         "mes": 6,
         "minuto": 30,
         "on_ground": "False",
         "origin_country": "Argentina",
         "time_minutes": 1410,
         "time_position": 1750548556,
         "timestamp": "2025-06-21 23:30:00+00:00",
         "velocity": 247.47,
         "x_km": 967.5051622339944,
         "y_km": 6477.290057451557,
         "zone_id": "0_1"
        },
        {
         "_deepnote_index_column": 9,
         "altitude_km": 11.5824,
         "año": 2025,
         "baro_altitude": 11582.4,
         "callsign": "AZU4150",
         "dia": 21,
         "heading": 213.48,
         "hora": 23,
         "icao24": "e49f5b",
         "last_contact": 1750548597,
         "lat_bin": 0,
         "latitude": -27.7315,
         "lon_bin": 1,
         "longitude": -49.6383,
         "mes": 6,
         "minuto": 30,
         "on_ground": "False",
         "origin_country": "Brazil",
         "time_minutes": 1410,
         "time_position": 1750548595,
         "timestamp": "2025-06-21 23:30:00+00:00",
         "velocity": 196.76,
         "x_km": 1823.8157627449018,
         "y_km": 6859.854287957499,
         "zone_id": "0_1"
        }
       ],
       "type": "dataframe"
      },
      "text/html": [
       "<div>\n",
       "<style scoped>\n",
       "    .dataframe tbody tr th:only-of-type {\n",
       "        vertical-align: middle;\n",
       "    }\n",
       "\n",
       "    .dataframe tbody tr th {\n",
       "        vertical-align: top;\n",
       "    }\n",
       "\n",
       "    .dataframe thead th {\n",
       "        text-align: right;\n",
       "    }\n",
       "</style>\n",
       "<table border=\"1\" class=\"dataframe\">\n",
       "  <thead>\n",
       "    <tr style=\"text-align: right;\">\n",
       "      <th></th>\n",
       "      <th>icao24</th>\n",
       "      <th>callsign</th>\n",
       "      <th>origin_country</th>\n",
       "      <th>time_position</th>\n",
       "      <th>last_contact</th>\n",
       "      <th>longitude</th>\n",
       "      <th>latitude</th>\n",
       "      <th>baro_altitude</th>\n",
       "      <th>on_ground</th>\n",
       "      <th>velocity</th>\n",
       "      <th>...</th>\n",
       "      <th>dia</th>\n",
       "      <th>hora</th>\n",
       "      <th>minuto</th>\n",
       "      <th>lat_bin</th>\n",
       "      <th>lon_bin</th>\n",
       "      <th>zone_id</th>\n",
       "      <th>time_minutes</th>\n",
       "      <th>x_km</th>\n",
       "      <th>y_km</th>\n",
       "      <th>altitude_km</th>\n",
       "    </tr>\n",
       "  </thead>\n",
       "  <tbody>\n",
       "    <tr>\n",
       "      <th>0</th>\n",
       "      <td>e8021b</td>\n",
       "      <td>LPE2368</td>\n",
       "      <td>Chile</td>\n",
       "      <td>1750548596</td>\n",
       "      <td>1750548596</td>\n",
       "      <td>-59.7568</td>\n",
       "      <td>-32.8455</td>\n",
       "      <td>10934.70</td>\n",
       "      <td>False</td>\n",
       "      <td>221.01</td>\n",
       "      <td>...</td>\n",
       "      <td>21</td>\n",
       "      <td>23</td>\n",
       "      <td>30</td>\n",
       "      <td>0</td>\n",
       "      <td>1</td>\n",
       "      <td>0_1</td>\n",
       "      <td>1410</td>\n",
       "      <td>803.560394</td>\n",
       "      <td>6361.177907</td>\n",
       "      <td>10.93470</td>\n",
       "    </tr>\n",
       "    <tr>\n",
       "      <th>1</th>\n",
       "      <td>e80204</td>\n",
       "      <td>LAN772</td>\n",
       "      <td>Chile</td>\n",
       "      <td>1750548577</td>\n",
       "      <td>1750548577</td>\n",
       "      <td>-48.4337</td>\n",
       "      <td>-25.7672</td>\n",
       "      <td>10652.76</td>\n",
       "      <td>False</td>\n",
       "      <td>287.70</td>\n",
       "      <td>...</td>\n",
       "      <td>21</td>\n",
       "      <td>23</td>\n",
       "      <td>30</td>\n",
       "      <td>0</td>\n",
       "      <td>1</td>\n",
       "      <td>0_1</td>\n",
       "      <td>1410</td>\n",
       "      <td>1970.506554</td>\n",
       "      <td>7067.656114</td>\n",
       "      <td>10.65276</td>\n",
       "    </tr>\n",
       "    <tr>\n",
       "      <th>2</th>\n",
       "      <td>e0b244</td>\n",
       "      <td>ARG1255</td>\n",
       "      <td>Argentina</td>\n",
       "      <td>1750548596</td>\n",
       "      <td>1750548596</td>\n",
       "      <td>-51.8828</td>\n",
       "      <td>-29.2480</td>\n",
       "      <td>12192.00</td>\n",
       "      <td>False</td>\n",
       "      <td>208.18</td>\n",
       "      <td>...</td>\n",
       "      <td>21</td>\n",
       "      <td>23</td>\n",
       "      <td>30</td>\n",
       "      <td>0</td>\n",
       "      <td>1</td>\n",
       "      <td>0_1</td>\n",
       "      <td>1410</td>\n",
       "      <td>1583.783582</td>\n",
       "      <td>6712.750111</td>\n",
       "      <td>12.19200</td>\n",
       "    </tr>\n",
       "    <tr>\n",
       "      <th>3</th>\n",
       "      <td>e07583</td>\n",
       "      <td>ARG1843</td>\n",
       "      <td>Argentina</td>\n",
       "      <td>1750548595</td>\n",
       "      <td>1750548596</td>\n",
       "      <td>-58.3590</td>\n",
       "      <td>-34.5908</td>\n",
       "      <td>335.28</td>\n",
       "      <td>False</td>\n",
       "      <td>61.21</td>\n",
       "      <td>...</td>\n",
       "      <td>21</td>\n",
       "      <td>23</td>\n",
       "      <td>30</td>\n",
       "      <td>0</td>\n",
       "      <td>1</td>\n",
       "      <td>0_1</td>\n",
       "      <td>1410</td>\n",
       "      <td>925.762995</td>\n",
       "      <td>6162.532021</td>\n",
       "      <td>0.33528</td>\n",
       "    </tr>\n",
       "    <tr>\n",
       "      <th>4</th>\n",
       "      <td>e49eef</td>\n",
       "      <td>GLO7705</td>\n",
       "      <td>Brazil</td>\n",
       "      <td>1750548595</td>\n",
       "      <td>1750548596</td>\n",
       "      <td>-48.9696</td>\n",
       "      <td>-28.2255</td>\n",
       "      <td>11277.60</td>\n",
       "      <td>False</td>\n",
       "      <td>262.97</td>\n",
       "      <td>...</td>\n",
       "      <td>21</td>\n",
       "      <td>23</td>\n",
       "      <td>30</td>\n",
       "      <td>0</td>\n",
       "      <td>1</td>\n",
       "      <td>0_1</td>\n",
       "      <td>1410</td>\n",
       "      <td>1884.276458</td>\n",
       "      <td>6796.608623</td>\n",
       "      <td>11.27760</td>\n",
       "    </tr>\n",
       "    <tr>\n",
       "      <th>...</th>\n",
       "      <td>...</td>\n",
       "      <td>...</td>\n",
       "      <td>...</td>\n",
       "      <td>...</td>\n",
       "      <td>...</td>\n",
       "      <td>...</td>\n",
       "      <td>...</td>\n",
       "      <td>...</td>\n",
       "      <td>...</td>\n",
       "      <td>...</td>\n",
       "      <td>...</td>\n",
       "      <td>...</td>\n",
       "      <td>...</td>\n",
       "      <td>...</td>\n",
       "      <td>...</td>\n",
       "      <td>...</td>\n",
       "      <td>...</td>\n",
       "      <td>...</td>\n",
       "      <td>...</td>\n",
       "      <td>...</td>\n",
       "      <td>...</td>\n",
       "    </tr>\n",
       "    <tr>\n",
       "      <th>15617</th>\n",
       "      <td>347259</td>\n",
       "      <td>AVA217</td>\n",
       "      <td>Spain</td>\n",
       "      <td>1750560445</td>\n",
       "      <td>1750560445</td>\n",
       "      <td>-60.2880</td>\n",
       "      <td>-33.2445</td>\n",
       "      <td>11277.60</td>\n",
       "      <td>False</td>\n",
       "      <td>259.55</td>\n",
       "      <td>...</td>\n",
       "      <td>22</td>\n",
       "      <td>2</td>\n",
       "      <td>47</td>\n",
       "      <td>0</td>\n",
       "      <td>0</td>\n",
       "      <td>0_0</td>\n",
       "      <td>167</td>\n",
       "      <td>752.680601</td>\n",
       "      <td>6318.327375</td>\n",
       "      <td>11.27760</td>\n",
       "    </tr>\n",
       "    <tr>\n",
       "      <th>15618</th>\n",
       "      <td>e80218</td>\n",
       "      <td>LAN096</td>\n",
       "      <td>Chile</td>\n",
       "      <td>1750560084</td>\n",
       "      <td>1750560084</td>\n",
       "      <td>-73.3556</td>\n",
       "      <td>-45.3148</td>\n",
       "      <td>10972.80</td>\n",
       "      <td>False</td>\n",
       "      <td>249.04</td>\n",
       "      <td>...</td>\n",
       "      <td>22</td>\n",
       "      <td>2</td>\n",
       "      <td>41</td>\n",
       "      <td>0</td>\n",
       "      <td>0</td>\n",
       "      <td>0_0</td>\n",
       "      <td>161</td>\n",
       "      <td>-311.634511</td>\n",
       "      <td>4929.644380</td>\n",
       "      <td>10.97280</td>\n",
       "    </tr>\n",
       "    <tr>\n",
       "      <th>15619</th>\n",
       "      <td>347259</td>\n",
       "      <td>AVA217</td>\n",
       "      <td>Spain</td>\n",
       "      <td>1750560082</td>\n",
       "      <td>1750560082</td>\n",
       "      <td>-60.8659</td>\n",
       "      <td>-32.5615</td>\n",
       "      <td>11277.60</td>\n",
       "      <td>False</td>\n",
       "      <td>252.97</td>\n",
       "      <td>...</td>\n",
       "      <td>22</td>\n",
       "      <td>2</td>\n",
       "      <td>41</td>\n",
       "      <td>0</td>\n",
       "      <td>0</td>\n",
       "      <td>0_0</td>\n",
       "      <td>161</td>\n",
       "      <td>700.358672</td>\n",
       "      <td>6395.314685</td>\n",
       "      <td>11.27760</td>\n",
       "    </tr>\n",
       "    <tr>\n",
       "      <th>15620</th>\n",
       "      <td>347259</td>\n",
       "      <td>AVA217</td>\n",
       "      <td>Spain</td>\n",
       "      <td>1750560359</td>\n",
       "      <td>1750560359</td>\n",
       "      <td>-60.4274</td>\n",
       "      <td>-33.0809</td>\n",
       "      <td>11277.60</td>\n",
       "      <td>False</td>\n",
       "      <td>259.96</td>\n",
       "      <td>...</td>\n",
       "      <td>22</td>\n",
       "      <td>2</td>\n",
       "      <td>46</td>\n",
       "      <td>0</td>\n",
       "      <td>0</td>\n",
       "      <td>0_0</td>\n",
       "      <td>166</td>\n",
       "      <td>740.134875</td>\n",
       "      <td>6336.800648</td>\n",
       "      <td>11.27760</td>\n",
       "    </tr>\n",
       "    <tr>\n",
       "      <th>15621</th>\n",
       "      <td>347259</td>\n",
       "      <td>AVA217</td>\n",
       "      <td>Spain</td>\n",
       "      <td>1750560486</td>\n",
       "      <td>1750560486</td>\n",
       "      <td>-60.2208</td>\n",
       "      <td>-33.3230</td>\n",
       "      <td>11094.72</td>\n",
       "      <td>False</td>\n",
       "      <td>258.83</td>\n",
       "      <td>...</td>\n",
       "      <td>22</td>\n",
       "      <td>2</td>\n",
       "      <td>49</td>\n",
       "      <td>0</td>\n",
       "      <td>0</td>\n",
       "      <td>0_0</td>\n",
       "      <td>169</td>\n",
       "      <td>758.711703</td>\n",
       "      <td>6309.455699</td>\n",
       "      <td>11.09472</td>\n",
       "    </tr>\n",
       "  </tbody>\n",
       "</table>\n",
       "<p>15622 rows × 24 columns</p>\n",
       "</div>"
      ],
      "text/plain": [
       "       icao24 callsign origin_country  time_position  last_contact  longitude  \\\n",
       "0      e8021b  LPE2368          Chile     1750548596    1750548596   -59.7568   \n",
       "1      e80204   LAN772          Chile     1750548577    1750548577   -48.4337   \n",
       "2      e0b244  ARG1255      Argentina     1750548596    1750548596   -51.8828   \n",
       "3      e07583  ARG1843      Argentina     1750548595    1750548596   -58.3590   \n",
       "4      e49eef  GLO7705         Brazil     1750548595    1750548596   -48.9696   \n",
       "...       ...      ...            ...            ...           ...        ...   \n",
       "15617  347259   AVA217          Spain     1750560445    1750560445   -60.2880   \n",
       "15618  e80218   LAN096          Chile     1750560084    1750560084   -73.3556   \n",
       "15619  347259   AVA217          Spain     1750560082    1750560082   -60.8659   \n",
       "15620  347259   AVA217          Spain     1750560359    1750560359   -60.4274   \n",
       "15621  347259   AVA217          Spain     1750560486    1750560486   -60.2208   \n",
       "\n",
       "       latitude  baro_altitude  on_ground  velocity  ...  dia hora  minuto  \\\n",
       "0      -32.8455       10934.70      False    221.01  ...   21   23      30   \n",
       "1      -25.7672       10652.76      False    287.70  ...   21   23      30   \n",
       "2      -29.2480       12192.00      False    208.18  ...   21   23      30   \n",
       "3      -34.5908         335.28      False     61.21  ...   21   23      30   \n",
       "4      -28.2255       11277.60      False    262.97  ...   21   23      30   \n",
       "...         ...            ...        ...       ...  ...  ...  ...     ...   \n",
       "15617  -33.2445       11277.60      False    259.55  ...   22    2      47   \n",
       "15618  -45.3148       10972.80      False    249.04  ...   22    2      41   \n",
       "15619  -32.5615       11277.60      False    252.97  ...   22    2      41   \n",
       "15620  -33.0809       11277.60      False    259.96  ...   22    2      46   \n",
       "15621  -33.3230       11094.72      False    258.83  ...   22    2      49   \n",
       "\n",
       "       lat_bin  lon_bin  zone_id  time_minutes         x_km         y_km  \\\n",
       "0            0        1      0_1          1410   803.560394  6361.177907   \n",
       "1            0        1      0_1          1410  1970.506554  7067.656114   \n",
       "2            0        1      0_1          1410  1583.783582  6712.750111   \n",
       "3            0        1      0_1          1410   925.762995  6162.532021   \n",
       "4            0        1      0_1          1410  1884.276458  6796.608623   \n",
       "...        ...      ...      ...           ...          ...          ...   \n",
       "15617        0        0      0_0           167   752.680601  6318.327375   \n",
       "15618        0        0      0_0           161  -311.634511  4929.644380   \n",
       "15619        0        0      0_0           161   700.358672  6395.314685   \n",
       "15620        0        0      0_0           166   740.134875  6336.800648   \n",
       "15621        0        0      0_0           169   758.711703  6309.455699   \n",
       "\n",
       "      altitude_km  \n",
       "0        10.93470  \n",
       "1        10.65276  \n",
       "2        12.19200  \n",
       "3         0.33528  \n",
       "4        11.27760  \n",
       "...           ...  \n",
       "15617    11.27760  \n",
       "15618    10.97280  \n",
       "15619    11.27760  \n",
       "15620    11.27760  \n",
       "15621    11.09472  \n",
       "\n",
       "[15622 rows x 24 columns]"
      ]
     },
     "execution_count": 8,
     "metadata": {},
     "output_type": "execute_result"
    }
   ],
   "source": [
    "utm_proj = Proj(proj='utm', zone=20, south=True, ellps='WGS84')\n",
    "gdf = gpd.GeoDataFrame(\n",
    "    df,\n",
    "    geometry=gpd.points_from_xy(df.longitude, df.latitude),\n",
    "    crs=\"EPSG:4326\"\n",
    ")\n",
    "gdf = gdf.to_crs(utm_proj.srs)\n",
    "df['x_km'] = gdf.geometry.x / 1_000\n",
    "df['y_km'] = gdf.geometry.y / 1_000\n",
    "df['altitude_km'] = df['baro_altitude'] / 1_000\n",
    "df"
   ]
  },
  {
   "cell_type": "markdown",
   "metadata": {
    "cell_id": "44d669da93db4cebac76cf98d5c7fc9f",
    "deepnote_cell_type": "text-cell-p",
    "formattedRanges": []
   },
   "source": [
    "Separacion de caracteristicas que usaremos"
   ]
  },
  {
   "cell_type": "code",
   "execution_count": 9,
   "metadata": {
    "cell_id": "85c281fcb04a4b8cb2353798368f05fb",
    "deepnote_cell_type": "code",
    "execution_context_id": "7d0b0781-e639-41a3-8ee6-9cb9657a33e9",
    "execution_millis": 0,
    "execution_start": 1750633486115,
    "source_hash": "62398df9"
   },
   "outputs": [],
   "source": [
    "selected_features = ['x_km', 'y_km', 'altitude_km', 'time_minutes']"
   ]
  },
  {
   "cell_type": "markdown",
   "metadata": {
    "cell_id": "b6422674db074fdab5d37e325d8c3c72",
    "deepnote_cell_type": "text-cell-p",
    "formattedRanges": []
   },
   "source": [
    "Escalamos los features para usarlo:"
   ]
  },
  {
   "cell_type": "code",
   "execution_count": 10,
   "metadata": {
    "cell_id": "91814efa62d7498db0dedc9b7f53de88",
    "deepnote_cell_type": "code",
    "execution_context_id": "7d0b0781-e639-41a3-8ee6-9cb9657a33e9",
    "execution_millis": 193,
    "execution_start": 1750633486165,
    "source_hash": "81bb3822"
   },
   "outputs": [],
   "source": [
    "scaler_path = Path('DENStream_Scaler/scaler.pkl')\n",
    "\n",
    "if scaler_path.exists():\n",
    "    scaler = joblib.load(scaler_path)\n",
    "else:\n",
    "    scaler = StandardScaler()\n",
    "    scaler.fit(df[selected_features])\n",
    "    joblib.dump(scaler, scaler_path)\n",
    "df_scaled = scaler.transform(df[selected_features])"
   ]
  },
  {
   "cell_type": "markdown",
   "metadata": {
    "cell_id": "008369cb5edd433eb6deb497f8a4f929",
    "deepnote_cell_type": "text-cell-p",
    "formattedRanges": []
   },
   "source": [
    "Generamos el Dataframe para manejarlo mejor:"
   ]
  },
  {
   "cell_type": "code",
   "execution_count": 11,
   "metadata": {
    "cell_id": "8df7031bea414648b28591c83800d987",
    "deepnote_cell_type": "code",
    "execution_context_id": "7d0b0781-e639-41a3-8ee6-9cb9657a33e9",
    "execution_millis": 0,
    "execution_start": 1750633486405,
    "source_hash": "8c6a2d2d"
   },
   "outputs": [],
   "source": [
    "df_scaled = pd.DataFrame(df_scaled, columns=selected_features)"
   ]
  },
  {
   "cell_type": "markdown",
   "metadata": {
    "cell_id": "047290579fe046b28e3c65da142693cc",
    "deepnote_cell_type": "text-cell-p",
    "formattedRanges": []
   },
   "source": [
    "Generamos el Dataset"
   ]
  },
  {
   "cell_type": "code",
   "execution_count": 12,
   "metadata": {
    "cell_id": "38416c9d882345639f98159fc9a0d1a4",
    "deepnote_cell_type": "code",
    "execution_context_id": "7d0b0781-e639-41a3-8ee6-9cb9657a33e9",
    "execution_millis": 510,
    "execution_start": 1750633486455,
    "source_hash": "6971e16b"
   },
   "outputs": [],
   "source": [
    "df_scaled.to_csv('DENStream_Datasets/max_denstream_preprocessed.csv', index=False)"
   ]
  },
  {
   "cell_type": "markdown",
   "metadata": {
    "created_in_deepnote_cell": true,
    "deepnote_cell_type": "markdown"
   },
   "source": [
    "<a style='text-decoration:none;line-height:16px;display:flex;color:#5B5B62;padding:10px;justify-content:end;' href='https://deepnote.com?utm_source=created-in-deepnote-cell&projectId=b1c0c563-baec-4f70-b443-fb48e15d9efd' target=\"_blank\">\n",
    "<img alt='Created in deepnote.com' style='display:inline;max-height:16px;margin:0px;margin-right:7.5px;' src='data:image/svg+xml;base64,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' > </img>\n",
    "Created in <span style='font-weight:600;margin-left:4px;'>Deepnote</span></a>"
   ]
  }
 ],
 "metadata": {
  "deepnote_notebook_id": "eb158147e50b459cbe909369bbb81b7a",
  "deepnote_persisted_session": {
   "createdAt": "2025-06-22T22:45:46.582Z"
  },
  "kernelspec": {
   "display_name": "venv",
   "language": "python",
   "name": "python3"
  },
  "language_info": {
   "name": "python",
   "version": "3.11.9"
  }
 },
 "nbformat": 4,
 "nbformat_minor": 0
}
